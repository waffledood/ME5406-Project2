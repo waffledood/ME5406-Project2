{
 "cells": [
  {
   "cell_type": "code",
   "execution_count": 6,
   "id": "52044202",
   "metadata": {},
   "outputs": [],
   "source": [
    "from environment import Environment\n",
    "import matplotlib.pyplot as plt\n",
    "import numpy as np"
   ]
  },
  {
   "cell_type": "code",
   "execution_count": 86,
   "id": "2bc87bc2",
   "metadata": {},
   "outputs": [],
   "source": [
    "deg2rad = np.pi/180\n",
    "steering_step = 10*deg2rad\n",
    "num_of_episodes = 1\n",
    "env = Environment()\n",
    "reward_list, episode_len_list = [], []\n",
    "# simple implementation of a PI controller\n",
    "# error: distance away from the center line\n",
    "# PI parameters\n",
    "Kp = 0.001;\n",
    "Ki = 0.00000000001;\n",
    "Kd = 0.01"
   ]
  },
  {
   "cell_type": "code",
   "execution_count": 88,
   "id": "0e1910dd",
   "metadata": {},
   "outputs": [],
   "source": [
    "for i in range(num_of_episodes):\n",
    "    obs, info = env.reset()\n",
    "    done = False\n",
    "    ep_len, rew = 0, 0\n",
    "    a = [1, 0, 0]\n",
    "    sum_error = 0\n",
    "    prev_error = 0\n",
    "    while(done != True and ep_len < 2000):\n",
    "        ep_len += 1\n",
    "        obs, reward, done, info = env.step(a)\n",
    "        # PI controller \n",
    "        error = list(info.values())[4]\n",
    "        diff_error = error - prev_error\n",
    "        sum_error = sum_error + error\n",
    "        out = Kp*error + Ki*sum_error + Kd*diff_error\n",
    "        prev_error = error\n",
    "        a = [1, 0, out]\n",
    "        rew  += reward\n",
    "    reward_list.append(rew), episode_len_list.append(ep_len)"
   ]
  },
  {
   "cell_type": "code",
   "execution_count": 79,
   "id": "2e1057c7",
   "metadata": {},
   "outputs": [
    {
     "data": {
      "image/png": "[encoded data removed]",
      "text/plain": [
       "<Figure size 432x288 with 1 Axes>"
      ]
     },
     "metadata": {
      "needs_background": "light"
     },
     "output_type": "display_data"
    },
    {
     "data": {
      "image/png": "[encoded data removed]",
      "text/plain": [
       "<Figure size 432x288 with 1 Axes>"
      ]
     },
     "metadata": {
      "needs_background": "light"
     },
     "output_type": "display_data"
    }
   ],
   "source": [
    "plt.plot(episode_len_list)\n",
    "plt.show()\n",
    "plt.plot(reward_list)\n",
    "plt.show()"
   ]
  },
  {
   "cell_type": "code",
   "execution_count": 89,
   "id": "10681d1a",
   "metadata": {},
   "outputs": [],
   "source": [
    "env.close()"
   ]
  },
  {
   "cell_type": "code",
   "execution_count": null,
   "id": "3bd99c08",
   "metadata": {},
   "outputs": [],
   "source": []
  }
 ],
 "metadata": {
  "kernelspec": {
   "display_name": "Python 3",
   "language": "python",
   "name": "python3"
  },
  "language_info": {
   "codemirror_mode": {
    "name": "ipython",
    "version": 3
   },
   "file_extension": ".py",
   "mimetype": "text/x-python",
   "name": "python",
   "nbconvert_exporter": "python",
   "pygments_lexer": "ipython3",
   "version": "3.8.8"
  }
 },
 "nbformat": 4,
 "nbformat_minor": 5
}
